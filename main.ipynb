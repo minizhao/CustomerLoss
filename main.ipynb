{
 "cells": [
  {
   "cell_type": "code",
   "execution_count": 2,
   "metadata": {
    "collapsed": true
   },
   "outputs": [],
   "source": [
    "import pandas as pd\n",
    "data=pd.read_csv('data.csv')\n"
   ]
  },
  {
   "cell_type": "code",
   "execution_count": 3,
   "metadata": {},
   "outputs": [
    {
     "name": "stdout",
     "output_type": "stream",
     "text": [
      "(900000, 46)\n"
     ]
    }
   ],
   "source": [
    "print(data.shape)"
   ]
  },
  {
   "cell_type": "code",
   "execution_count": 6,
   "metadata": {},
   "outputs": [
    {
     "name": "stdout",
     "output_type": "stream",
     "text": [
      "Index(['Unnamed: 0', 'MONTH_ID', 'USER_ID', 'INNET_MONTH', 'ACCT_FEE',\n",
      "       'CALL_DURA', 'NO_ROAM_LOCAL_CALL_DURA', 'NO_ROAM_GN_LONG_CALL_DURA',\n",
      "       'GN_ROAM_CALL_DURA', 'CDR_NUM', 'NO_ROAM_CDR_NUM',\n",
      "       'NO_ROAM_LOCAL_CDR_NUM', 'NO_ROAM_GN_LONG_CDR_NUM', 'GN_ROAM_CDR_NUM',\n",
      "       'P2P_SMS_CNT_UP', 'TOTAL_FLUX', 'LOCAL_FLUX', 'GN_ROAM_FLUX',\n",
      "       'CALL_DAYS', 'CALLING_DAYS', 'CALLED_DAYS', 'CALL_RING', 'CALLING_RING',\n",
      "       'CALLED_RING', 'CERT_AGE', 'IS_LOST', 'CUST_SEX_1', 'CUST_SEX_2',\n",
      "       'CUST_SEX_3', 'TERM_TYPE_2', 'TERM_TYPE_3', 'TERM_TYPE_4',\n",
      "       'CONSTELLATION_DESC_1', 'OS_DESC_IOS', 'CREDIT_LEVEL_0',\n",
      "       'CREDIT_LEVEL_65', 'CREDIT_LEVEL_66', 'CREDIT_LEVEL_67', 'VIP_LVL_0',\n",
      "       'VIP_LVL_2', 'VIP_LVL_3', 'VIP_LVL_4', 'VIP_LVL_99', 'AGREE_EXP_DATE_S',\n",
      "       'AGREE_EXP_DATE_M', 'AGREE_EXP_DATE_L'],\n",
      "      dtype='object')\n"
     ]
    }
   ],
   "source": [
    "print(data.columns)#查看有多少列信息，IS_LOST是lable，"
   ]
  },
  {
   "cell_type": "code",
   "execution_count": 32,
   "metadata": {},
   "outputs": [
    {
     "name": "stdout",
     "output_type": "stream",
     "text": [
      "   CUST_SEX_1  CUST_SEX_2  CUST_SEX_3  IS_LOST\n",
      "0           1           0           0      NaN\n",
      "1           1           0           0      NaN\n",
      "2           1           0           0      NaN\n",
      "3           0           1           0      NaN\n",
      "4           0           1           0      NaN\n"
     ]
    }
   ],
   "source": [
    "print(data[['CUST_SEX_1','CUST_SEX_2','CUST_SEX_3','IS_LOST']].head())\n",
    "#查看性别信息，可以看到CUST_SEX_1，CUST_SEX_2是男或女(两行信息是互斥的)，CUST_SEX_3是nan信息即性别信息是否缺失(与前两个字段数据互斥)"
   ]
  },
  {
   "cell_type": "code",
   "execution_count": 28,
   "metadata": {},
   "outputs": [
    {
     "name": "stdout",
     "output_type": "stream",
     "text": [
      "300309\n"
     ]
    }
   ],
   "source": [
    "print(data['IS_LOST'].count())#count 函数是统计的非空的数量，看出来大部分是空的，差不多只有1/3"
   ]
  },
  {
   "cell_type": "code",
   "execution_count": 29,
   "metadata": {},
   "outputs": [
    {
     "name": "stdout",
     "output_type": "stream",
     "text": [
      "0.0    290596\n",
      "1.0      9713\n",
      "Name: IS_LOST, dtype: int64\n"
     ]
    }
   ],
   "source": [
    "print(data[\"IS_LOST\"].value_counts())#看出来正负样本的分布情况。负样本差不多是正样本的30倍"
   ]
  },
  {
   "cell_type": "code",
   "execution_count": 38,
   "metadata": {},
   "outputs": [
    {
     "name": "stdout",
     "output_type": "stream",
     "text": [
      "0.0    293699\n",
      "1.0      6610\n",
      "dtype: int64\n",
      "0.0    297441\n",
      "1.0      2868\n",
      "dtype: int64\n",
      "0.0    300074\n",
      "1.0       235\n",
      "dtype: int64\n"
     ]
    }
   ],
   "source": [
    "print((data[\"CUST_SEX_1\"]*data[\"IS_LOST\"]).value_counts())\n",
    "print((data[\"CUST_SEX_2\"]*data[\"IS_LOST\"]).value_counts())\n",
    "print((data[\"CUST_SEX_3\"]*data[\"IS_LOST\"]).value_counts())\n",
    "#我们来查看不同的性别信息对是否流失统计情况"
   ]
  },
  {
   "cell_type": "code",
   "execution_count": 55,
   "metadata": {},
   "outputs": [
    {
     "name": "stdout",
     "output_type": "stream",
     "text": [
      "(300309, 46)\n",
      "(10000, 46)\n",
      "0.0    9708\n",
      "1.0     292\n",
      "Name: IS_LOST, dtype: int64\n",
      "                               df      sum_sq    mean_sq           F  \\\n",
      "INNET_MONTH                   1.0    3.882888   3.882888  148.768864   \n",
      "ACCT_FEE                      1.0    1.090190   1.090190   41.769514   \n",
      "NO_ROAM_LOCAL_CALL_DURA       1.0    0.940622   0.940622   36.038980   \n",
      "NO_ROAM_GN_LONG_CALL_DURA     1.0    0.207392   0.207392    7.946029   \n",
      "GN_ROAM_CALL_DURA             1.0    0.206459   0.206459    7.910281   \n",
      "CDR_NUM                       1.0    0.100789   0.100789    3.861632   \n",
      "NO_ROAM_CDR_NUM               1.0    0.074463   0.074463    2.852968   \n",
      "NO_ROAM_LOCAL_CDR_NUM         1.0    0.003337   0.003337    0.127856   \n",
      "NO_ROAM_GN_LONG_CDR_NUM       1.0    0.097479   0.097479    3.734810   \n",
      "GN_ROAM_CDR_NUM               1.0    0.009749   0.009749    0.373521   \n",
      "P2P_SMS_CNT_UP                1.0    0.004138   0.004138    0.158527   \n",
      "TOTAL_FLUX                    1.0    0.585525   0.585525   22.433779   \n",
      "LOCAL_FLUX                    1.0    0.017770   0.017770    0.680832   \n",
      "GN_ROAM_FLUX                  1.0    0.000034   0.000034    0.001318   \n",
      "CALL_DAYS                     1.0   14.228479  14.228479  545.149562   \n",
      "CALLING_DAYS                  1.0    0.011990   0.011990    0.459387   \n",
      "CALLED_DAYS                   1.0    1.409402   1.409402   53.999784   \n",
      "CALL_RING                     1.0    0.023400   0.023400    0.896557   \n",
      "CALLING_RING                  1.0    0.000385   0.000385    0.014736   \n",
      "CALLED_RING                   1.0    0.018068   0.018068    0.692272   \n",
      "CERT_AGE                      1.0    0.133855   0.133855    5.128508   \n",
      "Residual                   9978.0  260.427185   0.026100         NaN   \n",
      "\n",
      "                                  PR(>F)  \n",
      "INNET_MONTH                 5.619878e-34  \n",
      "ACCT_FEE                    1.074898e-10  \n",
      "NO_ROAM_LOCAL_CALL_DURA     2.001477e-09  \n",
      "NO_ROAM_GN_LONG_CALL_DURA   4.828791e-03  \n",
      "GN_ROAM_CALL_DURA           4.925064e-03  \n",
      "CDR_NUM                     4.942997e-02  \n",
      "NO_ROAM_CDR_NUM             9.123666e-02  \n",
      "NO_ROAM_LOCAL_CDR_NUM       7.206730e-01  \n",
      "NO_ROAM_GN_LONG_CDR_NUM     5.331798e-02  \n",
      "GN_ROAM_CDR_NUM             5.411052e-01  \n",
      "P2P_SMS_CNT_UP              6.905252e-01  \n",
      "TOTAL_FLUX                  2.205142e-06  \n",
      "LOCAL_FLUX                  4.093201e-01  \n",
      "GN_ROAM_FLUX                9.710445e-01  \n",
      "CALL_DAYS                  1.937928e-117  \n",
      "CALLING_DAYS                4.979261e-01  \n",
      "CALLED_DAYS                 2.162309e-13  \n",
      "CALL_RING                   3.437295e-01  \n",
      "CALLING_RING                9.033846e-01  \n",
      "CALLED_RING                 4.054124e-01  \n",
      "CERT_AGE                    2.355731e-02  \n",
      "Residual                             NaN  \n"
     ]
    },
    {
     "name": "stderr",
     "output_type": "stream",
     "text": [
      "/home/lab713/anaconda3/lib/python3.6/site-packages/scipy/stats/_distn_infrastructure.py:879: RuntimeWarning: invalid value encountered in greater\n",
      "  return (self.a < x) & (x < self.b)\n",
      "/home/lab713/anaconda3/lib/python3.6/site-packages/scipy/stats/_distn_infrastructure.py:879: RuntimeWarning: invalid value encountered in less\n",
      "  return (self.a < x) & (x < self.b)\n",
      "/home/lab713/anaconda3/lib/python3.6/site-packages/scipy/stats/_distn_infrastructure.py:1821: RuntimeWarning: invalid value encountered in less_equal\n",
      "  cond2 = cond0 & (x <= self.a)\n"
     ]
    }
   ],
   "source": [
    "from statsmodels.formula.api import ols\n",
    "from statsmodels.stats.anova import anova_lm\n",
    "import numpy as np\n",
    "#获得有用的信息,标签不为空的信息\n",
    "avil_data=data[data.IS_LOST.isnull().values==False]\n",
    "print(avil_data.shape)\n",
    "#总体数据量太大，我随机抽取3w行来分析，也看出来数据的正负赝=样本分布也没有很大改变\n",
    "sample_data=avil_data.sample(10000)\n",
    "print(sample_data.shape)\n",
    "print(sample_data.IS_LOST.value_counts())\n",
    "#做多维度方差分析\n",
    "formula = 'IS_LOST~INNET_MONTH+ACCT_FEE+NO_ROAM_LOCAL_CALL_DURA+NO_ROAM_GN_LONG_CALL_DURA+\\\n",
    "            GN_ROAM_CALL_DURA+CDR_NUM+NO_ROAM_CDR_NUM+NO_ROAM_LOCAL_CDR_NUM+NO_ROAM_GN_LONG_CDR_NUM+\\\n",
    "            GN_ROAM_CDR_NUM+P2P_SMS_CNT_UP+TOTAL_FLUX+LOCAL_FLUX+GN_ROAM_FLUX+CALL_DAYS+CALLING_DAYS+CALLED_DAYS+\\\n",
    "            CALL_RING+CALLING_RING+CALLED_RING+CERT_AGE'\n",
    "anova_results = anova_lm(ols(formula,sample_data).fit())\n",
    "print (anova_results)\n",
    "#以下是数据分析的结果是不是F值越大越好，我也不太熟悉，之后查查资料看看"
   ]
  },
  {
   "cell_type": "code",
   "execution_count": 122,
   "metadata": {},
   "outputs": [
    {
     "name": "stdout",
     "output_type": "stream",
     "text": [
      "(300309, 14)\n",
      "(300309, 13)\n",
      "(300309,)\n"
     ]
    }
   ],
   "source": [
    "#我们选贡献比较大的几个字段数据生成训练样本\n",
    "from sklearn.utils import shuffle\n",
    "features=['INNET_MONTH','ACCT_FEE','NO_ROAM_LOCAL_CALL_DURA','NO_ROAM_GN_LONG_CALL_DURA',\\\n",
    "                     'CDR_NUM','NO_ROAM_CDR_NUM','TOTAL_FLUX','CALL_DAYS','CALLED_DAYS',\\\n",
    "                    'CERT_AGE','CUST_SEX_1','CUST_SEX_2','CUST_SEX_3','IS_LOST']\n",
    "train_data=avil_data[features]\n",
    "#打乱数据\n",
    "train_data=shuffle(train_data)\n",
    "print(train_data.shape)\n",
    "X_data,y_data=train_data[features[0:13]].astype('int64'),train_data.IS_LOST.apply(lambda x: int(x))\n",
    "print(X_data.shape)\n",
    "print(y_data.shape)\n"
   ]
  },
  {
   "cell_type": "code",
   "execution_count": 123,
   "metadata": {},
   "outputs": [
    {
     "name": "stdout",
     "output_type": "stream",
     "text": [
      "(225231, 13)\n",
      "(75078, 13)\n",
      "800246    0\n",
      "843470    0\n",
      "802500    0\n",
      "730770    0\n",
      "641226    0\n",
      "Name: IS_LOST, dtype: int64\n"
     ]
    }
   ],
   "source": [
    "from sklearn.cross_validation import train_test_split\n",
    "X_train,X_test,y_train,y_test=train_test_split(X_data,y_data)\n",
    "print(X_train.shape)\n",
    "print(X_test.shape)\n",
    "print(y_data.head())"
   ]
  },
  {
   "cell_type": "code",
   "execution_count": 126,
   "metadata": {},
   "outputs": [
    {
     "name": "stdout",
     "output_type": "stream",
     "text": [
      "             precision    recall  f1-score   support\n",
      "\n",
      "          0       0.97      0.98      0.97     72173\n",
      "          1       0.31      0.25      0.28      2905\n",
      "\n",
      "avg / total       0.94      0.95      0.95     75078\n",
      "\n"
     ]
    }
   ],
   "source": [
    "from sklearn.metrics import classification_report\n",
    "from sklearn import tree\n",
    "clf = tree.DecisionTreeClassifier()\n",
    "clf = clf.fit(X_train, y_train)\n",
    "y_predict=clf.predict(X_test)\n",
    "print(classification_report(y_predict,y_test))\n",
    "#可以看到对正样本的预测不是很准确"
   ]
  },
  {
   "cell_type": "code",
   "execution_count": 128,
   "metadata": {},
   "outputs": [
    {
     "name": "stdout",
     "output_type": "stream",
     "text": [
      "Visible tree plot saved as pdf.\n"
     ]
    }
   ],
   "source": [
    "from sklearn.externals.six import StringIO\n",
    "import pydotplus\n",
    "\n",
    "feature_name = features[:-1]\n",
    "target_name = ['0','1']\n",
    "\n",
    "#把决策数可视化，输出的图片会有点大，打开图片加载时比较慢\n",
    "dot_data = StringIO()\n",
    "tree.export_graphviz(clf,out_file = dot_data,feature_names=feature_name,\n",
    "                     class_names=target_name,filled=True,rounded=True,\n",
    "                     special_characters=True)\n",
    "graph = pydotplus.graph_from_dot_data(dot_data.getvalue())\n",
    "graph.write_pdf(\"DecTree.pdf\")\n",
    "print('Visible tree plot saved as pdf.')"
   ]
  },
  {
   "cell_type": "code",
   "execution_count": null,
   "metadata": {
    "collapsed": true
   },
   "outputs": [],
   "source": []
  }
 ],
 "metadata": {
  "kernelspec": {
   "display_name": "Python 3",
   "language": "python",
   "name": "python3"
  },
  "language_info": {
   "codemirror_mode": {
    "name": "ipython",
    "version": 3
   },
   "file_extension": ".py",
   "mimetype": "text/x-python",
   "name": "python",
   "nbconvert_exporter": "python",
   "pygments_lexer": "ipython3",
   "version": "3.6.3"
  }
 },
 "nbformat": 4,
 "nbformat_minor": 2
}
